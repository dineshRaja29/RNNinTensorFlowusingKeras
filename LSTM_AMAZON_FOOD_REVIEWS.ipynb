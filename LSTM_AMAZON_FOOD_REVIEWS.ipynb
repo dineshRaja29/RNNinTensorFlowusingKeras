{
  "nbformat": 4,
  "nbformat_minor": 0,
  "metadata": {
    "colab": {
      "name": "LSTM_AMAZON_FOOD_REVIEWS.ipynb",
      "provenance": [],
      "include_colab_link": true
    },
    "language_info": {
      "codemirror_mode": {
        "name": "ipython",
        "version": 3
      },
      "file_extension": ".py",
      "mimetype": "text/x-python",
      "name": "python",
      "nbconvert_exporter": "python",
      "pygments_lexer": "ipython3",
      "version": "3.6.3"
    },
    "kernelspec": {
      "display_name": "Python 3",
      "language": "python",
      "name": "python3"
    }
  },
  "cells": [
    {
      "cell_type": "markdown",
      "metadata": {
        "id": "view-in-github",
        "colab_type": "text"
      },
      "source": [
        "<a href=\"https://colab.research.google.com/github/dineshRaja29/RNNinTensorFlowusingKeras/blob/main/LSTM_AMAZON_FOOD_REVIEWS.ipynb\" target=\"_parent\"><img src=\"https://colab.research.google.com/assets/colab-badge.svg\" alt=\"Open In Colab\"/></a>"
      ]
    },
    {
      "metadata": {
        "id": "_bXlsvPZE4hu",
        "colab": {
          "base_uri": "https://localhost:8080/",
          "height": 72
        },
        "outputId": "56182113-5ed4-4f0d-d96c-34602f490ae1"
      },
      "cell_type": "code",
      "source": [
        "%matplotlib inline\n",
        "import warnings\n",
        "warnings.filterwarnings(\"ignore\")\n",
        "\n",
        "\n",
        "import sqlite3\n",
        "import pandas as pd\n",
        "import numpy as np\n",
        "import nltk\n",
        "import string\n",
        "import matplotlib.pyplot as plt\n",
        "import seaborn as sns\n",
        "from sklearn.feature_extraction.text import TfidfTransformer\n",
        "from sklearn.feature_extraction.text import TfidfVectorizer\n",
        "\n",
        "from sklearn.feature_extraction.text import CountVectorizer\n",
        "from sklearn.metrics import confusion_matrix\n",
        "from sklearn import metrics\n",
        "from sklearn.metrics import roc_curve, auc\n",
        "from nltk.stem.porter import PorterStemmer\n",
        "\n",
        "import re\n",
        "# Tutorial about Python regular expressions: https://pymotw.com/2/re/\n",
        "import string\n",
        "from nltk.corpus import stopwords\n",
        "from nltk.stem import PorterStemmer\n",
        "from nltk.stem.wordnet import WordNetLemmatizer\n",
        "\n",
        "from gensim.models import Word2Vec\n",
        "from gensim.models import KeyedVectors\n",
        "import pickle\n",
        "\n",
        "# from tqdm import tqdm\n",
        "import os"
      ],
      "execution_count": null,
      "outputs": [
        {
          "output_type": "stream",
          "text": [
            "/usr/local/lib/python3.6/dist-packages/smart_open/ssh.py:34: UserWarning: paramiko missing, opening SSH/SCP/SFTP paths will be disabled.  `pip install paramiko` to suppress\n",
            "  warnings.warn('paramiko missing, opening SSH/SCP/SFTP paths will be disabled.  `pip install paramiko` to suppress')\n"
          ],
          "name": "stderr"
        }
      ]
    },
    {
      "metadata": {
        "id": "iVMg1AFlE4hw",
        "colab": {
          "base_uri": "https://localhost:8080/",
          "height": 176
        },
        "outputId": "27befb4a-6705-4635-a6c6-0baef9fd8ed1"
      },
      "cell_type": "code",
      "source": [
        "# using SQLite Table to read data.\n",
        "\n",
        "from google.colab import drive\n",
        "drive.mount('/content/drive', force_remount=True)\n",
        "from PIL import Image\n",
        "\n",
        "con = sqlite3.connect('/content/drive/My Drive/database.sqlite') \n",
        "\n",
        "# filtering only positive and negative reviews i.e. \n",
        "# not taking into consideration those reviews with Score=3\n",
        "# SELECT * FROM Reviews WHERE Score != 3 LIMIT 500000, will give top 500000 data points\n",
        "# you can change the number to any other number based on your computing power\n",
        "tables =pd.read_sql_query(\"SELECT name FROM sqlite_master WHERE type='table'\",con); print(tables)\n",
        "filtered_data = pd.read_sql_query(\"\"\" SELECT * FROM Reviews WHERE Score != 3 LIMIT 100000\"\"\", con) \n",
        "# for tsne assignment you can take 5k data points\n",
        "\n",
        "# filtered_data = pd.read_sql_query(\"\"\" SELECT * FROM Reviews WHERE Score != 3 LIMIT 5000\"\"\", con) \n",
        "\n",
        "# Give reviews with Score>3 a positive rating(1), and reviews with a score<3 a negative rating(0).\n",
        "def partition(x):\n",
        "    if x < 3:\n",
        "        return 0\n",
        "    return 1\n",
        "\n",
        "#changing reviews with score less than 3 to be positive and vice-versa\n",
        "actualScore = filtered_data['Score']\n",
        "positiveNegative = actualScore.map(partition) \n",
        "filtered_data['Score'] = positiveNegative\n",
        "print(\"Number of data points in our data\", filtered_data.shape)"
      ],
      "execution_count": null,
      "outputs": [
        {
          "output_type": "stream",
          "text": [
            "Go to this URL in a browser: https://accounts.google.com/o/oauth2/auth?client_id=947318989803-6bn6qk8qdgf4n4g3pfee6491hc0brc4i.apps.googleusercontent.com&redirect_uri=urn%3Aietf%3Awg%3Aoauth%3A2.0%3Aoob&scope=email%20https%3A%2F%2Fwww.googleapis.com%2Fauth%2Fdocs.test%20https%3A%2F%2Fwww.googleapis.com%2Fauth%2Fdrive%20https%3A%2F%2Fwww.googleapis.com%2Fauth%2Fdrive.photos.readonly%20https%3A%2F%2Fwww.googleapis.com%2Fauth%2Fpeopleapi.readonly&response_type=code\n",
            "\n",
            "Enter your authorization code:\n",
            "··········\n",
            "Mounted at /content/drive\n",
            "      name\n",
            "0  Reviews\n",
            "Number of data points in our data (100000, 10)\n"
          ],
          "name": "stdout"
        }
      ]
    },
    {
      "metadata": {
        "id": "xt49n2CRE4iE"
      },
      "cell_type": "code",
      "source": [
        "#Sorting data according to ProductId in ascending order\n",
        "sorted_data=filtered_data.sort_values('ProductId', axis=0, ascending=True, inplace=False, kind='quicksort', na_position='last')"
      ],
      "execution_count": null,
      "outputs": []
    },
    {
      "metadata": {
        "id": "vONb1X99E4iG",
        "outputId": "4de0964b-4cb3-4288-c59b-9b614d9b6b08",
        "colab": {
          "base_uri": "https://localhost:8080/",
          "height": 34
        }
      },
      "cell_type": "code",
      "source": [
        "#Deduplication of entries\n",
        "final=sorted_data.drop_duplicates(subset={\"UserId\",\"ProfileName\",\"Time\",\"Text\"}, keep='first', inplace=False)\n",
        "final.shape"
      ],
      "execution_count": null,
      "outputs": [
        {
          "output_type": "execute_result",
          "data": {
            "text/plain": [
              "(87775, 10)"
            ]
          },
          "metadata": {
            "tags": []
          },
          "execution_count": 5
        }
      ]
    },
    {
      "metadata": {
        "id": "lpXNtAyXE4iJ",
        "outputId": "e5ab56ca-63d4-400b-f642-0d55e5ff0a31",
        "colab": {
          "base_uri": "https://localhost:8080/",
          "height": 34
        }
      },
      "cell_type": "code",
      "source": [
        "#Checking to see how much % of data still remains\n",
        "(final['Id'].size*1.0)/(filtered_data['Id'].size*1.0)*100"
      ],
      "execution_count": null,
      "outputs": [
        {
          "output_type": "execute_result",
          "data": {
            "text/plain": [
              "87.775"
            ]
          },
          "metadata": {
            "tags": []
          },
          "execution_count": 6
        }
      ]
    },
    {
      "metadata": {
        "id": "OxU1E4gGE4iQ"
      },
      "cell_type": "code",
      "source": [
        "final=final[final.HelpfulnessNumerator<=final.HelpfulnessDenominator]"
      ],
      "execution_count": null,
      "outputs": []
    },
    {
      "metadata": {
        "id": "AmtoGhcCE4iT",
        "outputId": "d8dd78fb-5223-4af2-956e-17708ba78974",
        "colab": {
          "base_uri": "https://localhost:8080/",
          "height": 86
        }
      },
      "cell_type": "code",
      "source": [
        "#Before starting the next phase of preprocessing lets see the number of entries left\n",
        "print(final.shape)\n",
        "\n",
        "#How many positive and negative reviews are present in our dataset?\n",
        "final['Score'].value_counts()"
      ],
      "execution_count": null,
      "outputs": [
        {
          "output_type": "stream",
          "text": [
            "(87773, 10)\n"
          ],
          "name": "stdout"
        },
        {
          "output_type": "execute_result",
          "data": {
            "text/plain": [
              "1    73592\n",
              "0    14181\n",
              "Name: Score, dtype: int64"
            ]
          },
          "metadata": {
            "tags": []
          },
          "execution_count": 8
        }
      ]
    },
    {
      "metadata": {
        "id": "7iSZZlfSE4ij"
      },
      "cell_type": "code",
      "source": [
        "# https://stackoverflow.com/a/47091490/4084039\n",
        "import re\n",
        "\n",
        "def decontracted(phrase):\n",
        "    # specific\n",
        "    phrase = re.sub(r\"won't\", \"will not\", phrase)\n",
        "    phrase = re.sub(r\"can\\'t\", \"can not\", phrase)\n",
        "\n",
        "    # general\n",
        "    phrase = re.sub(r\"n\\'t\", \" not\", phrase)\n",
        "    phrase = re.sub(r\"\\'re\", \" are\", phrase)\n",
        "    phrase = re.sub(r\"\\'s\", \" is\", phrase)\n",
        "    phrase = re.sub(r\"\\'d\", \" would\", phrase)\n",
        "    phrase = re.sub(r\"\\'ll\", \" will\", phrase)\n",
        "    phrase = re.sub(r\"\\'t\", \" not\", phrase)\n",
        "    phrase = re.sub(r\"\\'ve\", \" have\", phrase)\n",
        "    phrase = re.sub(r\"\\'m\", \" am\", phrase)\n",
        "    return phrase"
      ],
      "execution_count": null,
      "outputs": []
    },
    {
      "metadata": {
        "id": "oUrbiuD5E4is",
        "outputId": "fed08e41-b3a3-43fa-8fbc-54a3764bdf36",
        "colab": {
          "base_uri": "https://localhost:8080/",
          "height": 208
        }
      },
      "cell_type": "code",
      "source": [
        "# Combining all the above stundents \n",
        "from tqdm import tqdm\n",
        "preprocessed_reviews = []\n",
        "from bs4 import BeautifulSoup\n",
        "# tqdm is for printing the status bar\n",
        "for sentance in tqdm(final['Text'].values):\n",
        "    sentance = re.sub(r\"http\\S+\", \"\", sentance)\n",
        "    sentance = BeautifulSoup(sentance, 'lxml').get_text()\n",
        "    sentance = decontracted(sentance)\n",
        "    sentance = re.sub(\"\\S*\\d\\S*\", \"\", sentance).strip()\n",
        "    sentance = re.sub('[^A-Za-z]+', ' ', sentance)\n",
        "    # https://gist.github.com/sebleier/554280\n",
        "    sentance = ' '.join(e.lower() for e in sentance.split() )\n",
        "    preprocessed_reviews.append(sentance.strip())\n",
        "print(\"\\n\",preprocessed_reviews)\n",
        "labels = final['Score']"
      ],
      "execution_count": null,
      "outputs": [
        {
          "output_type": "stream",
          "text": [
            "100%|██████████| 87773/87773 [00:32<00:00, 2705.66it/s]\n",
            "IOPub data rate exceeded.\n",
            "The notebook server will temporarily stop sending output\n",
            "to the client in order to avoid crashing it.\n",
            "To change this limit, set the config variable\n",
            "`--NotebookApp.iopub_data_rate_limit`.\n",
            "\n",
            "Current values:\n",
            "NotebookApp.iopub_data_rate_limit=1000000.0 (bytes/sec)\n",
            "NotebookApp.rate_limit_window=3.0 (secs)\n",
            "\n"
          ],
          "name": "stderr"
        }
      ]
    },
    {
      "metadata": {
        "id": "uK2Bq_qDTVfH"
      },
      "cell_type": "markdown",
      "source": [
        "## Preprocessing of Data "
      ]
    },
    {
      "metadata": {
        "id": "jGLWzw55awtb",
        "outputId": "50ee2d24-784f-474f-edf2-feeffe653b32",
        "colab": {
          "base_uri": "https://localhost:8080/",
          "height": 52
        }
      },
      "cell_type": "code",
      "source": [
        "from keras.preprocessing.text import Tokenizer\n",
        "# create the tokenizer\n",
        "t = Tokenizer()\n",
        "# fit the tokenizer on the documents\n",
        "t.fit_on_texts(preprocessed_reviews)\n",
        "dictionary = (t.word_index)\n",
        "top_words = 5000\n",
        "preprocessed_reviews_oneHotEncoding = []\n",
        "\n",
        "for review in preprocessed_reviews:\n",
        "  numberList = []\n",
        "  for word in review.split():\n",
        "    if (word in dictionary ):\n",
        "       number = dictionary[word]\n",
        "       if number <= top_words:\n",
        "          numberList.append(number)\n",
        "  preprocessed_reviews_oneHotEncoding.append(numberList)\n",
        "\n",
        "\n",
        "print(len(preprocessed_reviews_oneHotEncoding))\n",
        "print(len(preprocessed_reviews_oneHotEncoding[0]))"
      ],
      "execution_count": null,
      "outputs": [
        {
          "output_type": "stream",
          "text": [
            "87773\n",
            "64\n"
          ],
          "name": "stdout"
        }
      ]
    },
    {
      "metadata": {
        "id": "U3vBurBKMJ71"
      },
      "cell_type": "markdown",
      "source": [
        "# LSTM ON AMAZON FOOD REVIEWS MODEL I"
      ]
    },
    {
      "metadata": {
        "id": "W_FY94vYNZlq"
      },
      "cell_type": "code",
      "source": [
        "import numpy\n",
        "import keras\n",
        "from keras.datasets import imdb\n",
        "from keras.models import Sequential\n",
        "from keras.layers import Dense\n",
        "from keras.layers import LSTM\n",
        "from keras.layers.embeddings import Embedding\n",
        "from keras.preprocessing import sequence\n",
        "# fix random seed for reproducibility\n",
        "numpy.random.seed(7)"
      ],
      "execution_count": null,
      "outputs": []
    },
    {
      "metadata": {
        "id": "2eA4V8EjMdAf"
      },
      "cell_type": "markdown",
      "source": [
        "#### Data Splitting"
      ]
    },
    {
      "metadata": {
        "id": "_fY5mNbmMhC5"
      },
      "cell_type": "code",
      "source": [
        "from sklearn.model_selection import train_test_split\n",
        "X_train , X_test , y_train , y_test = train_test_split(preprocessed_reviews_oneHotEncoding,labels,test_size = 0.3,random_state = 0,shuffle = False)"
      ],
      "execution_count": null,
      "outputs": []
    },
    {
      "metadata": {
        "id": "hVsVre3XM-wj"
      },
      "cell_type": "markdown",
      "source": [
        "#### Dynamic Graph "
      ]
    },
    {
      "metadata": {
        "id": "QP6VTn8wNEy5"
      },
      "cell_type": "code",
      "source": [
        "def plt_dynamic(x, vy, ty):\n",
        "  plt.figure(figsize=(10,5))\n",
        "  plt.plot(x, vy, 'b', label=\"Validation Loss\")\n",
        "  plt.plot(x, ty, 'r', label=\"Train Loss\")\n",
        "  plt.xlabel('Epochs') \n",
        "  plt.ylabel('Binary Crossentropy Loss')\n",
        "  plt.title('\\nBinary Crossentropy Loss VS Epochs')\n",
        "  plt.legend()\n",
        "  plt.grid()\n",
        "  plt.show()"
      ],
      "execution_count": null,
      "outputs": []
    },
    {
      "metadata": {
        "id": "Wm5ZIjVVNF_u",
        "outputId": "800e2b7a-9990-4da2-d417-e77e78fb7586",
        "colab": {
          "base_uri": "https://localhost:8080/",
          "height": 781
        }
      },
      "cell_type": "code",
      "source": [
        "max_review_length = 600\n",
        "X_train = sequence.pad_sequences(X_train, maxlen=max_review_length)\n",
        "X_test = sequence.pad_sequences(X_test, maxlen=max_review_length)\n",
        "\n",
        "print(X_train.shape)\n",
        "print(X_train[99])"
      ],
      "execution_count": null,
      "outputs": [
        {
          "output_type": "stream",
          "text": [
            "(61441, 600)\n",
            "[   0    0    0    0    0    0    0    0    0    0    0    0    0    0\n",
            "    0    0    0    0    0    0    0    0    0    0    0    0    0    0\n",
            "    0    0    0    0    0    0    0    0    0    0    0    0    0    0\n",
            "    0    0    0    0    0    0    0    0    0    0    0    0    0    0\n",
            "    0    0    0    0    0    0    0    0    0    0    0    0    0    0\n",
            "    0    0    0    0    0    0    0    0    0    0    0    0    0    0\n",
            "    0    0    0    0    0    0    0    0    0    0    0    0    0    0\n",
            "    0    0    0    0    0    0    0    0    0    0    0    0    0    0\n",
            "    0    0    0    0    0    0    0    0    0    0    0    0    0    0\n",
            "    0    0    0    0    0    0    0    0    0    0    0    0    0    0\n",
            "    0    0    0    0    0    0    0    0    0    0    0    0    0    0\n",
            "    0    0    0    0    0    0    0    0    0    0    0    0    0    0\n",
            "    0    0    0    0    0    0    0    0    0    0    0    0    0    0\n",
            "    0    0    0    0    0    0    0    0    0    0    0    0    0    0\n",
            "    0    0    0    0    0    0    0    0    0    0    0    0    0    0\n",
            "    0    0    0    0    0    0    0    0    0    0    0    0    0    0\n",
            "    0    0    0    0    0    0    0    0    0    0    0    0    0    0\n",
            "    0    0    0    0    0    0    0    0    0    0    0    0    0    0\n",
            "    0    0    0    0    0    0    0    0    0    0    0    0    0    0\n",
            "    0    0    0    0    0    0    0    0    0    0    0    0    0    0\n",
            "    0    0    0    0    0    0    0    0    0    0    0    0    0    0\n",
            "    0    0    0    0    0    0    0    0    0    0    0    0    0    0\n",
            "    0    0    0    0    0    0    0    0    0    0    0    0    0    0\n",
            "    0    0    0    0    0    0    0    0    0    0    0    0    0    0\n",
            "    0    0    0    0    0    0    0    0    0    0    0    0    0    0\n",
            "    0    0    0    0    0    0    0    0    0    0    0    0    0    0\n",
            "    0    0    0    0    0    0    0    0    0    0    0    0    0    0\n",
            "    0    0    0    0    0    0    0    0    0    0    0    0    0    0\n",
            "    0    0    0    0    0    0    0    0    0    0    0    0    0    0\n",
            "    0    0    0    0    0    0    0    0    0    0    0    0    0    0\n",
            "    0    0    0    0    0    0    0    0    0    0    0    0    0    0\n",
            "    0    0    0    0    0    0    0    0    0    0    0    0    0    0\n",
            "    0    0    0    0    0    0    0    0    0    0    0    0    0    0\n",
            "    0    0    0    0    0    0    0    0    0    0    0    0    0    0\n",
            "    0    0    0    0    0    0    0    0    0    0    0    0    0    0\n",
            "    0    0    0    0    0    0    0    0    0    0    0    0    0    0\n",
            "    0    0    0    0    0    0    0    0    0    0    0    0    0    0\n",
            "    0    0    0    0    0    0    0    0    0    0    0    0    0    0\n",
            "    0    0    0    0    0    0    0    0    0    0    0    0    0    0\n",
            "    0    0    0    0    0    0    0    0    0    2   15    1  269    8\n",
            "  144   12 2874   90   35  497 1365    3   13  342   53   27  152   73\n",
            "    1 4016    6  392 1043    2   15    7  725  248    3  181  444   25\n",
            "   81   97   10 4223    1  653 1043  325    5   42   61 1048]\n"
          ],
          "name": "stdout"
        }
      ]
    },
    {
      "metadata": {
        "id": "2lONLT6HPi1W",
        "outputId": "0b89d14a-5009-4463-9dd9-def0d4c13479",
        "colab": {
          "base_uri": "https://localhost:8080/",
          "height": 330
        }
      },
      "cell_type": "code",
      "source": [
        "from keras.layers import Dropout\n",
        "embedding_vecor_length = 32\n",
        "model = Sequential()\n",
        "model.add(Embedding(top_words+1, embedding_vecor_length, input_length=max_review_length))\n",
        "model.add(Dropout(0.5))\n",
        "\n",
        "model.add(LSTM(100))\n",
        "model.add(Dropout(0.5))\n",
        "\n",
        "model.add(Dense(1, activation='sigmoid'))\n",
        "model.compile(loss='binary_crossentropy', optimizer='adam', metrics=['accuracy'])\n",
        "print(model.summary())"
      ],
      "execution_count": null,
      "outputs": [
        {
          "output_type": "stream",
          "text": [
            "_________________________________________________________________\n",
            "Layer (type)                 Output Shape              Param #   \n",
            "=================================================================\n",
            "embedding_2 (Embedding)      (None, 600, 32)           160032    \n",
            "_________________________________________________________________\n",
            "dropout_3 (Dropout)          (None, 600, 32)           0         \n",
            "_________________________________________________________________\n",
            "lstm_2 (LSTM)                (None, 100)               53200     \n",
            "_________________________________________________________________\n",
            "dropout_4 (Dropout)          (None, 100)               0         \n",
            "_________________________________________________________________\n",
            "dense_2 (Dense)              (None, 1)                 101       \n",
            "=================================================================\n",
            "Total params: 213,333\n",
            "Trainable params: 213,333\n",
            "Non-trainable params: 0\n",
            "_________________________________________________________________\n",
            "None\n"
          ],
          "name": "stdout"
        }
      ]
    },
    {
      "metadata": {
        "id": "vUSjTSY9PkUS",
        "outputId": "7e492a2e-3cdf-4d4c-e33a-2cb2bd9b1aed",
        "colab": {
          "base_uri": "https://localhost:8080/",
          "height": 399
        }
      },
      "cell_type": "code",
      "source": [
        "history = model.fit(X_train, y_train, epochs = 10, batch_size=128, verbose=1,validation_data=(X_test, y_test))\n",
        "scores = model.evaluate(X_test, y_test, verbose = 0)\n",
        "print(\"Accuracy: %.2f%%\" % (scores[1]*100))"
      ],
      "execution_count": null,
      "outputs": [
        {
          "output_type": "stream",
          "text": [
            "Train on 61441 samples, validate on 26332 samples\n",
            "Epoch 1/10\n",
            "61441/61441 [==============================] - 1009s 16ms/step - loss: 0.3170 - acc: 0.8721 - val_loss: 0.2436 - val_acc: 0.8973\n",
            "Epoch 2/10\n",
            "61441/61441 [==============================] - 1028s 17ms/step - loss: 0.2074 - acc: 0.9192 - val_loss: 0.2825 - val_acc: 0.9045\n",
            "Epoch 3/10\n",
            "61441/61441 [==============================] - 1050s 17ms/step - loss: 0.1899 - acc: 0.9274 - val_loss: 0.2773 - val_acc: 0.8839\n",
            "Epoch 4/10\n",
            "61441/61441 [==============================] - 1042s 17ms/step - loss: 0.1954 - acc: 0.9250 - val_loss: 0.2209 - val_acc: 0.9171\n",
            "Epoch 5/10\n",
            "61441/61441 [==============================] - 1045s 17ms/step - loss: 0.1685 - acc: 0.9369 - val_loss: 0.2153 - val_acc: 0.9198\n",
            "Epoch 6/10\n",
            "61441/61441 [==============================] - 1043s 17ms/step - loss: 0.1615 - acc: 0.9390 - val_loss: 0.2090 - val_acc: 0.9173\n",
            "Epoch 7/10\n",
            "61441/61441 [==============================] - 1046s 17ms/step - loss: 0.1560 - acc: 0.9401 - val_loss: 0.2131 - val_acc: 0.9198\n",
            "Epoch 8/10\n",
            "61441/61441 [==============================] - 1046s 17ms/step - loss: 0.1515 - acc: 0.9428 - val_loss: 0.2276 - val_acc: 0.9160\n",
            "Epoch 9/10\n",
            "61441/61441 [==============================] - 1046s 17ms/step - loss: 0.1613 - acc: 0.9365 - val_loss: 0.2157 - val_acc: 0.9204\n",
            "Epoch 10/10\n",
            "61441/61441 [==============================] - 1047s 17ms/step - loss: 0.1397 - acc: 0.9471 - val_loss: 0.2161 - val_acc: 0.9212\n",
            "Accuracy: 92.12%\n"
          ],
          "name": "stdout"
        }
      ]
    },
    {
      "metadata": {
        "id": "DiwKzfArPoC_",
        "outputId": "7658de89-ae69-4c98-c256-fe9b907e69a0",
        "colab": {
          "base_uri": "https://localhost:8080/",
          "height": 365
        }
      },
      "cell_type": "code",
      "source": [
        "import matplotlib.pyplot as plt\n",
        "x = list(range(1,11))\n",
        "train_acc_1  = history.history['acc']\n",
        "val_acc_1    = history.history['val_acc']\n",
        "vy_1 = history.history['val_loss']\n",
        "ty_1 = history.history['loss']\n",
        "plt_dynamic(x, vy_1, ty_1)"
      ],
      "execution_count": null,
      "outputs": [
        {
          "output_type": "display_data",
          "data": {
            "image/png": "[encoded data removed]",
            "text/plain": [
              "<Figure size 720x360 with 1 Axes>"
            ]
          },
          "metadata": {
            "tags": []
          }
        }
      ]
    },
    {
      "metadata": {
        "id": "nWotm2ln8vpK"
      },
      "cell_type": "markdown",
      "source": [
        "# LSTM ON AMAZON FOOD REVIEWS MODEL II"
      ]
    },
    {
      "metadata": {
        "id": "NT_IbVoz9JQ3",
        "outputId": "79ce3f8e-14fa-4cb3-d2d7-c86b8a4cb68f",
        "colab": {
          "base_uri": "https://localhost:8080/",
          "height": 402
        }
      },
      "cell_type": "code",
      "source": [
        "from keras.layers import Dropout\n",
        "embedding_vecor_length = 32\n",
        "model_ii = Sequential()\n",
        "\n",
        "model_ii.add(Embedding(top_words+1, embedding_vecor_length, input_length=max_review_length))\n",
        "model_ii.add(LSTM(100,return_sequences=True))\n",
        "model_ii.add(LSTM(100))\n",
        "model_ii.add(Dropout(0.5))\n",
        "\n",
        "model_ii.add(Dense(1, activation='sigmoid'))\n",
        "model_ii.compile(loss='binary_crossentropy', optimizer='adam', metrics=['accuracy'])\n",
        "print(model_ii.summary())"
      ],
      "execution_count": null,
      "outputs": [
        {
          "output_type": "stream",
          "text": [
            "WARNING:tensorflow:From /usr/local/lib/python3.6/dist-packages/keras/backend/tensorflow_backend.py:3445: calling dropout (from tensorflow.python.ops.nn_ops) with keep_prob is deprecated and will be removed in a future version.\n",
            "Instructions for updating:\n",
            "Please use `rate` instead of `keep_prob`. Rate should be set to `rate = 1 - keep_prob`.\n",
            "_________________________________________________________________\n",
            "Layer (type)                 Output Shape              Param #   \n",
            "=================================================================\n",
            "embedding_2 (Embedding)      (None, 600, 32)           160032    \n",
            "_________________________________________________________________\n",
            "lstm_3 (LSTM)                (None, 600, 100)          53200     \n",
            "_________________________________________________________________\n",
            "lstm_4 (LSTM)                (None, 100)               80400     \n",
            "_________________________________________________________________\n",
            "dropout_1 (Dropout)          (None, 100)               0         \n",
            "_________________________________________________________________\n",
            "dense_1 (Dense)              (None, 1)                 101       \n",
            "=================================================================\n",
            "Total params: 293,733\n",
            "Trainable params: 293,733\n",
            "Non-trainable params: 0\n",
            "_________________________________________________________________\n",
            "None\n"
          ],
          "name": "stdout"
        }
      ]
    },
    {
      "metadata": {
        "id": "HlPsH20GBEhq",
        "outputId": "8e3ff62f-6b3b-4e4b-db6d-cf0ac532f4de",
        "colab": {
          "base_uri": "https://localhost:8080/",
          "height": 332
        }
      },
      "cell_type": "code",
      "source": [
        "history = model_ii.fit(X_train, y_train, epochs = 6, batch_size=128, verbose=1,validation_data=(X_test, y_test))\n",
        "scores = model_ii.evaluate(X_test, y_test, verbose = 0)\n",
        "print(\"Accuracy: %.2f%%\" % (scores[1]*100))"
      ],
      "execution_count": null,
      "outputs": [
        {
          "output_type": "stream",
          "text": [
            "WARNING:tensorflow:From /usr/local/lib/python3.6/dist-packages/tensorflow/python/ops/math_ops.py:3066: to_int32 (from tensorflow.python.ops.math_ops) is deprecated and will be removed in a future version.\n",
            "Instructions for updating:\n",
            "Use tf.cast instead.\n",
            "Train on 61441 samples, validate on 26332 samples\n",
            "Epoch 1/6\n",
            "61441/61441 [==============================] - 2024s 33ms/step - loss: 0.2702 - acc: 0.8955 - val_loss: 0.2251 - val_acc: 0.9103\n",
            "Epoch 2/6\n",
            "61441/61441 [==============================] - 2029s 33ms/step - loss: 0.2239 - acc: 0.9096 - val_loss: 0.2253 - val_acc: 0.9142\n",
            "Epoch 3/6\n",
            "61441/61441 [==============================] - 2026s 33ms/step - loss: 0.1760 - acc: 0.9317 - val_loss: 0.2080 - val_acc: 0.9162\n",
            "Epoch 4/6\n",
            "61441/61441 [==============================] - 2025s 33ms/step - loss: 0.1622 - acc: 0.9383 - val_loss: 0.2103 - val_acc: 0.9178\n",
            "Epoch 5/6\n",
            "61441/61441 [==============================] - 2020s 33ms/step - loss: 0.1502 - acc: 0.9431 - val_loss: 0.2283 - val_acc: 0.9182\n",
            "Epoch 6/6\n",
            "61441/61441 [==============================] - 2021s 33ms/step - loss: 0.1445 - acc: 0.9455 - val_loss: 0.2277 - val_acc: 0.9180\n",
            "Accuracy: 91.80%\n"
          ],
          "name": "stdout"
        }
      ]
    },
    {
      "metadata": {
        "id": "7rwRskOMBQ5A",
        "colab": {
          "base_uri": "https://localhost:8080/",
          "height": 365
        },
        "outputId": "3d1c0852-7f24-46a9-a9ed-d3e5f8abd3bc"
      },
      "cell_type": "code",
      "source": [
        "import matplotlib.pyplot as plt\n",
        "x = list(range(1,7))\n",
        "train_acc_1  = history.history['acc']\n",
        "val_acc_1    = history.history['val_acc']\n",
        "vy_1 = history.history['val_loss']\n",
        "ty_1 = history.history['loss']\n",
        "plt_dynamic(x, vy_1, ty_1)"
      ],
      "execution_count": null,
      "outputs": [
        {
          "output_type": "display_data",
          "data": {
            "image/png": "[encoded data removed]",
            "text/plain": [
              "<Figure size 720x360 with 1 Axes>"
            ]
          },
          "metadata": {
            "tags": []
          }
        }
      ]
    },
    {
      "metadata": {
        "id": "T-0jYzxApfB3",
        "colab": {
          "base_uri": "https://localhost:8080/",
          "height": 121
        },
        "outputId": "250eac99-723c-4f68-f746-fafcb7627685"
      },
      "cell_type": "code",
      "source": [
        "from prettytable import PrettyTable\n",
        "x = PrettyTable()\n",
        "x.add_column(\"S.NO\",[1,2])\n",
        "x.add_column(\"#f Epochs\",[6,6])\n",
        "x.add_column(\"Model Description\",[\"Model with 1 layer of LSTM + Dropout\",\"Model with 2 layer of LSTM + Dropout\"])\n",
        "x.add_column(\"Train Accuracy\",[\"0.9390\",\"0.9455\"])\n",
        "x.add_column(\"Validation Accuracy\",[\"0.9173\" ,\"0.9180\" ])\n",
        "print(x)"
      ],
      "execution_count": null,
      "outputs": [
        {
          "output_type": "stream",
          "text": [
            "+------+-----------+--------------------------------------+----------------+---------------------+\n",
            "| S.NO | #f Epochs |          Model Description           | Train Accuracy | Validation Accuracy |\n",
            "+------+-----------+--------------------------------------+----------------+---------------------+\n",
            "|  1   |     6     | Model with 1 layer of LSTM + Dropout |     0.9390     |        0.9173       |\n",
            "|  2   |     6     | Model with 2 layer of LSTM + Dropout |     0.9455     |        0.9180       |\n",
            "+------+-----------+--------------------------------------+----------------+---------------------+\n"
          ],
          "name": "stdout"
        }
      ]
    }
  ]
}